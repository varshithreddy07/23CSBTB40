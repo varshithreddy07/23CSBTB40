{
  "nbformat": 4,
  "nbformat_minor": 0,
  "metadata": {
    "colab": {
      "provenance": [],
      "authorship_tag": "ABX9TyOHlAmVlZHLPC8+Tv680bfP",
      "include_colab_link": true
    },
    "kernelspec": {
      "name": "python3",
      "display_name": "Python 3"
    },
    "language_info": {
      "name": "python"
    }
  },
  "cells": [
    {
      "cell_type": "markdown",
      "metadata": {
        "id": "view-in-github",
        "colab_type": "text"
      },
      "source": [
        "<a href=\"https://colab.research.google.com/github/varshithreddy07/23CSBTB40/blob/main/part3.ipynb\" target=\"_parent\"><img src=\"https://colab.research.google.com/assets/colab-badge.svg\" alt=\"Open In Colab\"/></a>"
      ]
    },
    {
      "cell_type": "code",
      "execution_count": 4,
      "metadata": {
        "colab": {
          "base_uri": "https://localhost:8080/"
        },
        "id": "OWY0dqCVQqCK",
        "outputId": "3e8aa2da-bf3f-46aa-f800-2159f82b9a2e"
      },
      "outputs": [
        {
          "output_type": "stream",
          "name": "stdout",
          "text": [
            "   stid      name course    contact\n",
            "0  2087  varshith   aiml  123456783\n",
            "1  2085    harsha   aiml  123456783\n",
            "2  2090       sam   aiml  123456783\n",
            "3  2218       vru   aiml  123456783\n",
            "4  1247     potti    cse  123456783\n",
            "5  1236      siri    cse  123456783\n",
            "6  1239    akshay    cse  123456783\n",
            "7  1240   kashyap    cse  123456783\n",
            "8  2299   shrehan   aiml  123456783\n",
            "9  1246     shiva    cse  123456783\n"
          ]
        }
      ],
      "source": [
        "import pandas as pd\n",
        "df=pd.read_csv(\"student.csv\")\n",
        "print(df)"
      ]
    },
    {
      "cell_type": "code",
      "source": [
        "from queue import Queue\n",
        "graph={0: [1, 2, 3],\n",
        "       1: [0, 2],\n",
        "       2: [1, 3, 5],\n",
        "       3: [0, 2, 4],\n",
        "       4: [3, 5, 7],\n",
        "       5: [2, 4, 6, 7],\n",
        "       6: [5, 7],\n",
        "       7: []}\n",
        "print(\"The adjacency List representing the graph is:\")\n",
        "print(graph)\n",
        "\n",
        "def bfs(graph, source):\n",
        "  Q=Queue()\n",
        "  visited_vertices=set()\n",
        "  Q.put(source)\n",
        "  visited_vertices.update({source})\n",
        "  while not Q.empty():\n",
        "    vertex=Q.get()\n",
        "    print(vertex, end=\"-->\")\n",
        "    for u in graph[vertex]:\n",
        "      if u not in visited_vertices:\n",
        "        Q.put(u)\n",
        "        visited_vertices.update({u})\n",
        "      print()\n",
        "      bfs(graph,1)"
      ],
      "metadata": {
        "colab": {
          "base_uri": "https://localhost:8080/"
        },
        "id": "WnYTJa-ETY6L",
        "outputId": "d9733106-1ac1-48e9-fa84-9386c7cd1936"
      },
      "execution_count": 1,
      "outputs": [
        {
          "output_type": "stream",
          "name": "stdout",
          "text": [
            "The adjacency List representing the graph is:\n",
            "{0: [1, 2, 3], 1: [0, 2], 2: [1, 3, 5], 3: [0, 2, 4], 4: [3, 5, 7], 5: [2, 4, 6, 7], 6: [5, 7], 7: []}\n"
          ]
        }
      ]
    }
  ]
}