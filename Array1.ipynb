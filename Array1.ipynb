{
  "nbformat": 4,
  "nbformat_minor": 0,
  "metadata": {
    "colab": {
      "provenance": [],
      "authorship_tag": "ABX9TyNspf66DS30QuHasovYb3x7",
      "include_colab_link": true
    },
    "kernelspec": {
      "name": "python3",
      "display_name": "Python 3"
    },
    "language_info": {
      "name": "python"
    }
  },
  "cells": [
    {
      "cell_type": "markdown",
      "metadata": {
        "id": "view-in-github",
        "colab_type": "text"
      },
      "source": [
        "<a href=\"https://colab.research.google.com/github/varshithreddy07/23CSBTB40/blob/main/Array1.ipynb\" target=\"_parent\"><img src=\"https://colab.research.google.com/assets/colab-badge.svg\" alt=\"Open In Colab\"/></a>"
      ]
    },
    {
      "cell_type": "markdown",
      "source": [
        "Part 1 – Implement Basic Data Structures using Numpy, Pandas"
      ],
      "metadata": {
        "id": "uCyXlF8j-nL0"
      }
    },
    {
      "cell_type": "code",
      "execution_count": 21,
      "metadata": {
        "colab": {
          "base_uri": "https://localhost:8080/"
        },
        "id": "IOvQiK4K-jgI",
        "outputId": "99a8b06a-da93-40b7-d436-9562048621ca"
      },
      "outputs": [
        {
          "output_type": "stream",
          "name": "stdout",
          "text": [
            "<class 'list'>\n",
            "<class 'list'>\n"
          ]
        }
      ],
      "source": [
        "import numpy as np\n",
        "import pandas as pd\n",
        "list1 = [1, 2, 3]\n",
        "list2 = [4, 5 , 6]\n",
        "print(type(list1))\n",
        "print(type(list2))\n",
        "\n"
      ]
    },
    {
      "cell_type": "code",
      "source": [
        "array1=np.array(list1)\n",
        "print(array1)\n",
        "array2=np.array(list2)\n",
        "print(array2)"
      ],
      "metadata": {
        "colab": {
          "base_uri": "https://localhost:8080/"
        },
        "id": "DRvYDf5wC2Jn",
        "outputId": "06fb32d4-2441-433b-bea3-58c7003d5982"
      },
      "execution_count": 22,
      "outputs": [
        {
          "output_type": "stream",
          "name": "stdout",
          "text": [
            "[1 2 3]\n",
            "[4 5 6]\n"
          ]
        }
      ]
    },
    {
      "cell_type": "code",
      "source": [
        "array1_type=type(array1)\n",
        "array2_type=type(array2)\n",
        "print(array1_type)\n",
        "print(array2_type)"
      ],
      "metadata": {
        "colab": {
          "base_uri": "https://localhost:8080/"
        },
        "id": "cGrt5unKPtmS",
        "outputId": "276a0074-de30-4611-803e-ed16e181c234"
      },
      "execution_count": 25,
      "outputs": [
        {
          "output_type": "stream",
          "name": "stdout",
          "text": [
            "<class 'numpy.ndarray'>\n",
            "<class 'numpy.ndarray'>\n"
          ]
        }
      ]
    },
    {
      "cell_type": "code",
      "source": [
        "\n",
        "mul=array1*array2\n",
        "div=array1/array2\n",
        "pow=array1**2\n",
        "print(mul)\n",
        "print(div)\n",
        "print(pow)"
      ],
      "metadata": {
        "colab": {
          "base_uri": "https://localhost:8080/"
        },
        "id": "nd5TnRQtC6XB",
        "outputId": "95077399-f868-4eb3-8cef-8bd88fe1f1be"
      },
      "execution_count": 23,
      "outputs": [
        {
          "output_type": "stream",
          "name": "stdout",
          "text": [
            "[ 4 10 18]\n",
            "[0.25 0.4  0.5 ]\n",
            "[1 4 9]\n"
          ]
        }
      ]
    },
    {
      "cell_type": "code",
      "source": [
        "sin = np.sin(array1)\n",
        "print(\"sin result for\",array1,\":\",sin)\n",
        "sin2 = np.sin(array2)\n",
        "print(\"sin result for\",array2,\":\",sin2)\n",
        "log=np.log(array1)\n",
        "print(\"log result for\",array1,\":\",log)\n",
        "log2=np.log(array2)\n",
        "print(\"log result for\",array2,\":\",log2)\n",
        "exp=np.exp(array1)\n",
        "print(\"expainstion result for\",array1,\":\",exp)\n",
        "exp2=np.exp(array2)\n",
        "print(\"expainstion result for\",array2,\":\",exp2)"
      ],
      "metadata": {
        "colab": {
          "base_uri": "https://localhost:8080/"
        },
        "id": "AzzwXDeGRNK3",
        "outputId": "0cdff5ce-60f8-445d-de80-e4b19427cd80"
      },
      "execution_count": 26,
      "outputs": [
        {
          "output_type": "stream",
          "name": "stdout",
          "text": [
            "sin result for [1 2 3] : [0.84147098 0.90929743 0.14112001]\n",
            "sin result for [4 5 6] : [-0.7568025  -0.95892427 -0.2794155 ]\n",
            "log result for [1 2 3] : [0.         0.69314718 1.09861229]\n",
            "log result for [4 5 6] : [1.38629436 1.60943791 1.79175947]\n",
            "expainstion result for [1 2 3] : [ 2.71828183  7.3890561  20.08553692]\n",
            "expainstion result for [4 5 6] : [ 54.59815003 148.4131591  403.42879349]\n"
          ]
        }
      ]
    }
  ]
}